{
 "cells": [
  {
   "cell_type": "markdown",
   "id": "067255cd",
   "metadata": {},
   "source": [
    "#### 1.해쉬 구조\n",
    "- Hash Table: 키에 데이터를 저장하는 데이터 구조\n",
    "    - 키를 통해 바로 데이터를 받아올 수 있으므로 속도가 획기적으로 빨라짐\n",
    "    - 파이썬 딕서너리 타입이 해쉬 테이블의 예\n",
    "    - 보통 배열로 미리 Hash Table 사이즈만큼 생성 후에 사용\n",
    "    - 단, 파이썬에서는 해쉬를 별도 구현할 이유가 없음 - 딕셔너리 타입이 있어서"
   ]
  },
  {
   "cell_type": "markdown",
   "id": "90f694fc",
   "metadata": {},
   "source": [
    "#### 2. 알아둘 용어\n",
    "- 해쉬(Hash): 임의 값을 고정 길이로 변환하는 것\n",
    "- 해쉬 테이블: 키 값의 연산에 의해 직접 접근이 가능한 데이터 구조\n",
    "- 해싱 함수: 키에 대해 산술 연산을 이용해 데이터 위치를 찾을 수 있는 함수\n",
    "- 해쉬 값 또는 해쉬 주소: 키를 해싱 함수로 연산해서, 해쉬 값을 알아내고, 이를 기반으로 해쉬 테이블에서 해당 키에 대한 데이터 위치를 일관성 있게 찾을 수 있음\n",
    "- 슬롯(slot): 한 개의 데이터를 저장할 수 있는 공간\n",
    "- 저장할 데이터에 대해 키를 추출할 수 있는 별도 함수도 존재할 수 있음\n",
    "\n"
   ]
  },
  {
   "cell_type": "markdown",
   "id": "6a610ce2",
   "metadata": {},
   "source": [
    "#### 3. 간단한 해쉬 예\n",
    "\n",
    "##### 3.1 hash table 만들기"
   ]
  },
  {
   "cell_type": "code",
   "execution_count": 3,
   "id": "6e573398",
   "metadata": {},
   "outputs": [
    {
     "data": {
      "text/plain": [
       "[0, 0, 0, 0, 0, 0, 0, 0, 0, 0]"
      ]
     },
     "execution_count": 3,
     "metadata": {},
     "output_type": "execute_result"
    }
   ],
   "source": [
    "hash_table = list([0 for i in range(10)])\n",
    "hash_table"
   ]
  },
  {
   "cell_type": "markdown",
   "id": "430d16be",
   "metadata": {},
   "source": [
    "##### 3.2 간단한 해쉬 함수 만들기"
   ]
  },
  {
   "cell_type": "code",
   "execution_count": 11,
   "id": "8230f1e8",
   "metadata": {},
   "outputs": [],
   "source": [
    "def hash_func(key):\n",
    "    return key % 5\n"
   ]
  },
  {
   "cell_type": "markdown",
   "id": "a2d887da",
   "metadata": {},
   "source": [
    "#### 3.3 해쉬 테이블에 저장"
   ]
  },
  {
   "cell_type": "code",
   "execution_count": 16,
   "id": "2bee62cc",
   "metadata": {},
   "outputs": [
    {
     "name": "stdout",
     "output_type": "stream",
     "text": [
      "65 68 84\n",
      "65 3 84\n"
     ]
    }
   ],
   "source": [
    "data1 = 'Andy'\n",
    "data2 = 'Dave'\n",
    "data3 = 'Trump'\n",
    "\n",
    "## ord(): 문자의 ASCII 코드 리턴\n",
    "print(ord(data1[0]), ord(data2[0]), ord(data3[0]))\n",
    "print(ord(data1[0]), hash_func(ord(data2[0])), ord(data3[0]))\n"
   ]
  },
  {
   "cell_type": "code",
   "execution_count": 17,
   "id": "f4c05970",
   "metadata": {},
   "outputs": [],
   "source": [
    "def storage_data(data,value):\n",
    "    key = ord(data[0])\n",
    "    hash_address = hash_func(key)\n",
    "    hash_table[hash_address] = value\n"
   ]
  },
  {
   "cell_type": "markdown",
   "id": "31a38267",
   "metadata": {},
   "source": [
    "##### 3.4 해쉬 테이블에서 특정 주소의 데이터를 가져오는 함수"
   ]
  },
  {
   "cell_type": "code",
   "execution_count": 19,
   "id": "4d9e91db",
   "metadata": {},
   "outputs": [],
   "source": [
    "storage_data('Andy','01055553333')\n",
    "storage_data('Dave','01044443333')\n",
    "storage_data('Trump','01022223333')"
   ]
  },
  {
   "cell_type": "markdown",
   "id": "02db623b",
   "metadata": {},
   "source": [
    "##### 3.5 실제 데이터를 저장하고 읽기"
   ]
  },
  {
   "cell_type": "code",
   "execution_count": 20,
   "id": "0c696b19",
   "metadata": {},
   "outputs": [],
   "source": [
    "def get_data(data):\n",
    "    key = ord(data[0])\n",
    "    hash_address = hash_func(key)\n",
    "    return hash_table[hash_address]"
   ]
  },
  {
   "cell_type": "code",
   "execution_count": 21,
   "id": "e8f98a88",
   "metadata": {},
   "outputs": [
    {
     "data": {
      "text/plain": [
       "'01055553333'"
      ]
     },
     "execution_count": 21,
     "metadata": {},
     "output_type": "execute_result"
    }
   ],
   "source": [
    "get_data('Andy')"
   ]
  },
  {
   "cell_type": "markdown",
   "id": "46564ec2",
   "metadata": {},
   "source": [
    "#### 4.자료구조 해쉬 테이블의 장단점과 주요 용도\n",
    "\n",
    "- 장점\n",
    "    - 데이터 저장/읽기 속도가 빠르다\n",
    "    - 해쉬는 키에 대한 데이터가 있는지 확인이 쉽다\n",
    "- 단점\n",
    "    - 일반적으로 저장공간이 좀 더 필요하다\n",
    "    - 여러 키에 해당하는 주소가 동일할 경우 충돌을 해결하기 위한 별도 자료구조가 필요함\n",
    "- 주요 용도\n",
    "    - 검색이 많이 필요한 경우\n",
    "    - 저장, 삭제, 읽기가 빈번한 경우\n",
    "    - 캐쉬 구현시(중복 확인이 쉽기 때문)"
   ]
  },
  {
   "cell_type": "markdown",
   "id": "442ab3b2",
   "metadata": {},
   "source": [
    "#### 6. 충돌 해결 알고리즘\n",
    "\n",
    "##### 6.1 Chaining 기법\n",
    "- 개방 해슁 또는 Open Hashing 기법 중 하나, 해쉬 테이블 저장공간 외의 공간을 활용하는 기법\n",
    "- 충돌이 일어나면, 링크드 리스트를 사용하여 링크드 리스트로 데이터를 추가로 뒤에서 연결시키는 기법\n"
   ]
  },
  {
   "cell_type": "code",
   "execution_count": null,
   "id": "afc414de",
   "metadata": {},
   "outputs": [],
   "source": [
    "hash_table = list([0 for i in range(8)])\n",
    "\n",
    "def get_key(data):\n",
    "    return hash(data)\n",
    "\n",
    "def hash_function(key):\n",
    "    return key % 8\n",
    "\n",
    "def save_data(data, value):\n",
    "    index_key = get_key(data)\n",
    "    hash_address = hash_function(index_key)\n",
    "    if hash_table[hash_address] != 0:\n",
    "        for index in range(len(hash_table[hash_address]):\n",
    "            if hash_table[hash_address][index][0] == index_key:\n",
    "                hash_table[hash_address][index][1] = value\n",
    "                return\n",
    "        hash_table[hash_address].append([index_key,value])\n",
    "    else:\n",
    "        hash_table[hash_address] = list([index_key,value])\n",
    "        \n",
    "                           \n",
    "    hash_table(hash_address) = value\n",
    "\n",
    "def read_data(data):\n",
    "    hash_address = hash_function(get_key(data))\n",
    "    return hash_table[hash_address]\n",
    "\n"
   ]
  },
  {
   "cell_type": "markdown",
   "id": "f49283e9",
   "metadata": {},
   "source": [
    "#### 6.2 Linear Probing 기법\n",
    "- 페쇄 해슁 또는 Close Hashing 기법 중 하나: 해쉬 테이블 저장공간 안에서 충돌문제를 해결하는 기법\n",
    "- 충돌이 일어나면 해당 hash address의 다음 address 부터 맨 처음 나오는 빈공간에 저장하는 기법\n",
    "    - 저장공간 활용도를 높이기 위한 기법\n",
    "    "
   ]
  },
  {
   "cell_type": "code",
   "execution_count": null,
   "id": "74b9ca7b",
   "metadata": {},
   "outputs": [],
   "source": [
    "hash_table = list([0 for i in range(8)])\n",
    "\n",
    "def get_key(data):\n",
    "    return hash(data)\n",
    "\n",
    "def hash_function(key):\n",
    "    return key % 8\n",
    "\n",
    "def save_data(data, value):\n",
    "    index_key = get_key(data)\n",
    "    hash_address = hash_function(index_key)\n",
    "    if hash_table[hash_address] != 0:\n",
    "        for index in range(len(hash_table[hash_address]):\n",
    "            if hash_table[hash_address][index][0] == index_key:\n",
    "                hash_table[hash_address][index][1] = value\n",
    "                return\n",
    "        hash_table[hash_address].append([index_key,value])\n",
    "    else:\n",
    "        hash_table[hash_address] = list([index_key,value])\n",
    "        \n",
    "                           \n",
    "    hash_table(hash_address) = value\n",
    "\n",
    "def read_data(data):\n",
    "    hash_address = hash_function(get_key(data))\n",
    "    return hash_table[hash_address]\n"
   ]
  },
  {
   "cell_type": "markdown",
   "id": "8316d49c",
   "metadata": {},
   "source": [
    "### 참고: 해쉬 함수와 키 생성 함수\n",
    "- 파이썬의 hash() 함수는 실행때마다 값이 달라질 수 있음\n",
    "- 유명한 해쉬 함수들이 있음: SHA(Secure Hash Algorithm, 안전한 해쉬 알고이즘)\n",
    "    - 어떤 데이터도 유일한 고정된 크기의 고정값을 리턴해주므로, 해쉬 함수로 유용하게 활용 가능"
   ]
  },
  {
   "cell_type": "markdown",
   "id": "e6f15ecc",
   "metadata": {},
   "source": [
    "### SHA-1"
   ]
  },
  {
   "cell_type": "code",
   "execution_count": 2,
   "id": "889cd538",
   "metadata": {},
   "outputs": [
    {
     "name": "stdout",
     "output_type": "stream",
     "text": [
      "a94a8fe5ccb19ba61c4c0873d391e987982fbbd3\n"
     ]
    }
   ],
   "source": [
    "import hashlib\n",
    "\n",
    "data = 'test'.encode()\n",
    "hash_object = hashlib.sha1()\n",
    "hash_object.update(b'test')\n",
    "hex_dig = hash_object.hexdigest()\n",
    "\n",
    "print(hex_dig)"
   ]
  }
 ],
 "metadata": {
  "kernelspec": {
   "display_name": "Python 3 (ipykernel)",
   "language": "python",
   "name": "python3"
  },
  "language_info": {
   "codemirror_mode": {
    "name": "ipython",
    "version": 3
   },
   "file_extension": ".py",
   "mimetype": "text/x-python",
   "name": "python",
   "nbconvert_exporter": "python",
   "pygments_lexer": "ipython3",
   "version": "3.9.7"
  }
 },
 "nbformat": 4,
 "nbformat_minor": 5
}
